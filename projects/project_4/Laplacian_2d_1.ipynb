{
 "cells": [
  {
   "cell_type": "code",
   "execution_count": 61,
   "metadata": {},
   "outputs": [],
   "source": [
    "from poisson_1 import create_laplacian_2d\n",
    "import numpy as np\n",
    "import matplotlib.pyplot as plt"
   ]
  },
  {
   "cell_type": "code",
   "execution_count": 64,
   "metadata": {},
   "outputs": [],
   "source": [
    "laplacian_1=create_laplacian_2d(10,10,1.0,1.0)"
   ]
  },
  {
   "cell_type": "code",
   "execution_count": 65,
   "metadata": {},
   "outputs": [
    {
     "data": {
      "text/plain": [
       "0.0"
      ]
     },
     "execution_count": 65,
     "metadata": {},
     "output_type": "execute_result"
    }
   ],
   "source": [
    "np.linalg.det(laplacian_1)"
   ]
  },
  {
   "cell_type": "code",
   "execution_count": 66,
   "metadata": {},
   "outputs": [],
   "source": [
    "import numpy as np\n",
    "\n",
    "\n",
    "def create_laplacian_2d_v2(nx, ny, lx, ly, pbc=True):\n",
    "    \"\"\" Computes discrete Laplacian for a 2d\n",
    "        charge density matrix, ordered row-wise\n",
    "        Args:\n",
    "            nx: number of grid points along x axis, nx >= 2\n",
    "            ny: number of grid points along y axis, ny >= 2\n",
    "            Lx: length of grid along x axis, Lx > 0\n",
    "            Ly: length of grid along y axis, Ly > 0\n",
    "            pbc: periodic boundry conditions, boolean\n",
    "        output:\n",
    "            Laplacian as nx * ny by nx * ny np.array\n",
    "    \"\"\"\n",
    "    if type(nx) != int or type(ny) != int:\n",
    "        raise TypeError('We need an integer')\n",
    "    if type(lx) != int and type(lx) != float:\n",
    "        raise TypeError('We need a number')\n",
    "    if type(ly) != int and type(ly) != float:\n",
    "        raise TypeError('We need a number')\n",
    "    if nx < 2 or ny < 2:\n",
    "        raise ValueError('We need at least two grid points')\n",
    "    if lx <= 0 or ly <= 0:\n",
    "        raise ValueError('We need a positive length')\n",
    "    if type(pbc) != bool:\n",
    "        raise TypeError('We need a boolean as pbc')\n",
    "\n",
    "    hx = (nx / lx) ** 2\n",
    "    hy = (ny / ly) ** 2\n",
    "    a1 = (-2 * hx - 2 * hy) * np.diag(np.ones(nx * ny))\n",
    "    a2 = np.diag([0 if i % nx == 0 else hx for i in range(1, nx * ny)], 1)\n",
    "    a3 = np.diag([0 if i % nx == 0 else hx for i in range(1, nx * ny)], -1)\n",
    "    a4 = hy * np.diag(np.ones(nx * ny - nx), nx)\n",
    "    a5 = hy * np.diag(np.ones(nx * ny - nx), -nx)\n",
    "    laplacian = a1 + a2 + a3 + a4 + a5\n",
    "\n",
    "    if pbc:\n",
    "        a6 = hy * np.diag(np.ones(nx), nx * ny - nx)\n",
    "        a7 = hy * np.diag(np.ones(nx), -nx * ny + nx)\n",
    "        a8 = np.diag([hx if i % nx == 0 else 0\n",
    "                     for i in range(0, nx * ny - nx + 1)], nx - 1)\n",
    "        a9 = np.diag([hx if i % nx == 0 else 0\n",
    "                     for i in range(0, nx * ny - nx + 1)], -nx + 1)\n",
    "        laplacian += a6 + a7 + a8 + a9\n",
    "\n",
    "    return laplacian\n"
   ]
  },
  {
   "cell_type": "code",
   "execution_count": 81,
   "metadata": {},
   "outputs": [],
   "source": [
    "laplacian_1 = create_laplacian_2d(10, 10,\n",
    "                                     2, 2)\n",
    "laplacian_2 = create_laplacian_2d_v2(10, 10, 2, 2)\n",
    "np.testing.assert_equal(laplacian_1,laplacian_2)\n"
   ]
  },
  {
   "cell_type": "code",
   "execution_count": null,
   "metadata": {},
   "outputs": [],
   "source": []
  }
 ],
 "metadata": {
  "kernelspec": {
   "display_name": "Python 3",
   "language": "python",
   "name": "python3"
  },
  "language_info": {
   "codemirror_mode": {
    "name": "ipython",
    "version": 3
   },
   "file_extension": ".py",
   "mimetype": "text/x-python",
   "name": "python",
   "nbconvert_exporter": "python",
   "pygments_lexer": "ipython3",
   "version": "3.7.0"
  }
 },
 "nbformat": 4,
 "nbformat_minor": 2
}
