{
 "cells": [
  {
   "cell_type": "code",
   "execution_count": 17,
   "metadata": {},
   "outputs": [],
   "source": [
    "import numpy as np\n",
    "import matplotlib.pyplot as plt"
   ]
  },
  {
   "cell_type": "code",
   "execution_count": 25,
   "metadata": {},
   "outputs": [],
   "source": [
    "def jacobi_2d(charge_dist, boxsize, maxiter=100, tol=10**(-5), epsilon0=1.0):\n",
    "    hx, hy = boxsize\n",
    "    rho = np.asarray(charge_dist)\n",
    "    nx, ny = rho.shape\n",
    "    pot = rho\n",
    "    dif = np.inf\n",
    "    hxy = (hx**2+hy**2)/(2*hx**2*hy**2)\n",
    "    while dif < tol and counter<maxiter:\n",
    "        pot_next = np.zeros(shape=(nx,ny))\n",
    "        for i in range(ny):\n",
    "            for j in range(nx):\n",
    "                pot_next[i, j] = hxy*( (pot[(i+1)%ny,j] + pot[(i-1)%ny, j])/hy**2 + (pot[i, (j+1)%nx] + pot[i, (j-1)%nx])/hx**2 + rho[i,j]/epsilon0)\n",
    "        pot = pot_next[::]\n",
    "        counter+=1\n",
    "    return pot              "
   ]
  }
 ],
 "metadata": {
  "kernelspec": {
   "display_name": "Python 3",
   "language": "python",
   "name": "python3"
  },
  "language_info": {
   "codemirror_mode": {
    "name": "ipython",
    "version": 3
   },
   "file_extension": ".py",
   "mimetype": "text/x-python",
   "name": "python",
   "nbconvert_exporter": "python",
   "pygments_lexer": "ipython3",
   "version": "3.7.0"
  }
 },
 "nbformat": 4,
 "nbformat_minor": 2
}
