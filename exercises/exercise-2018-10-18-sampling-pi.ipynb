{
 "cells": [
  {
   "cell_type": "markdown",
   "metadata": {},
   "source": [
    "# Samping $\\pi$\n",
    "\n",
    "Let us conduct a stochastic experiment: we throw $N$ pebbles randomly into a square with radius $1$ (we assume that each possible position in the square is equally probable) and we further note how many of the $N$ pebbles are actually landing within distance $1$ of the lower left corner of the square. If $N_\\mathrm{hit}$ is that number, then\n",
    "\n",
    "$$\\frac{4 N_\\mathrm{hit}}{N} \\approx \\pi$$\n",
    "\n",
    "if $N$ is sufficiently large.\n",
    "\n",
    "Why? The number $N_\\mathrm{hit}$ describes how many of the $N$ pebbles have a distances of one from the lower left corner, i.e., the have fallen inside a (quarter-) circle of radius $r=1$ which is centered at the lower left corner. The area of full circle of radius $r$ is $\\pi r^2$; thus, the area of a quarter circle with $r=1$ is $\\frac{\\pi}{4}$. The area of the square, in which all $N$ pebbles must lie, is $r^2=1$. Since we assume a uniform distribution of pebble positions in the square, the ratio $\\frac{N_\\mathrm{hit}}{N}$ must be close to the ratio of areas between the quarter circle and the full square: $\\frac{\\pi}{4}$.\n",
    "\n",
    "Your task is to implement the above approximation for $\\pi$ as a Python function. To sample random positions in the unit square, you can use the `random` package, in particular, the function `uniform(a, b)` which returns a uniformly distributed random number $[a,b)$. Before you can use `uniform(a, b)`, you need to import this function as shown below:"
   ]
  },
  {
   "cell_type": "code",
   "execution_count": null,
   "metadata": {},
   "outputs": [],
   "source": [
    "from random import uniform"
   ]
  },
  {
   "cell_type": "markdown",
   "metadata": {},
   "source": [
    "Here is an example how to use this function. We draw $10000$ random numbers and print the smallest as well as the largest number in the sample:"
   ]
  },
  {
   "cell_type": "code",
   "execution_count": null,
   "metadata": {},
   "outputs": [],
   "source": [
    "a, b = 0, 1\n",
    "samples = [uniform(a, b) for _ in range(10000)]\n",
    "print(min(samples), max(samples))"
   ]
  },
  {
   "cell_type": "code",
   "execution_count": null,
   "metadata": {},
   "outputs": [],
   "source": []
  }
 ],
 "metadata": {
  "kernelspec": {
   "display_name": "Python 3",
   "language": "python",
   "name": "python3"
  },
  "language_info": {
   "codemirror_mode": {
    "name": "ipython",
    "version": 3
   },
   "file_extension": ".py",
   "mimetype": "text/x-python",
   "name": "python",
   "nbconvert_exporter": "python",
   "pygments_lexer": "ipython3",
   "version": "3.6.1"
  }
 },
 "nbformat": 4,
 "nbformat_minor": 2
}
