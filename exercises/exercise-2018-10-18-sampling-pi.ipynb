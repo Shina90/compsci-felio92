{
 "cells": [
  {
   "cell_type": "markdown",
   "metadata": {},
   "source": [
    "# Samping $\\pi$\n",
    "\n",
    "Let us conduct a stochastic experiment: we throw $N$ pebbles randomly into a square with radius $1$ (we assume that each possible position in the square is equally probable) and we further note how many of the $N$ pebbles are actually landing within distance $1$ of the lower left corner of the square. If $N_\\mathrm{hit}$ is that number, then\n",
    "\n",
    "$$\\frac{4 N_\\mathrm{hit}}{N} \\approx \\pi$$\n",
    "\n",
    "if $N$ is sufficiently large.\n",
    "\n",
    "Why? The number $N_\\mathrm{hit}$ describes how many of the $N$ pebbles have a distances of one from the lower left corner, i.e., the have fallen inside a (quarter-) circle of radius $r=1$ which is centered at the lower left corner. The area of full circle of radius $r$ is $\\pi r^2$; thus, the area of a quarter circle with $r=1$ is $\\frac{\\pi}{4}$. The area of the square, in which all $N$ pebbles must lie, is $r^2=1$. Since we assume a uniform distribution of pebble positions in the square, the ratio $\\frac{N_\\mathrm{hit}}{N}$ must be close to the ratio of areas between the quarter circle and the full square: $\\frac{\\pi}{4}$.\n",
    "\n",
    "Your task is to implement the above approximation for $\\pi$ as a Python function. To sample random positions in the unit square, you can use the `random` package, in particular, the function `uniform(a, b)` which returns a uniformly distributed random number $[a,b)$. Before you can use `uniform(a, b)`, you need to import this function as shown below:"
   ]
  },
  {
   "cell_type": "code",
   "execution_count": null,
   "metadata": {},
   "outputs": [],
   "source": [
    "from random import uniform"
   ]
  },
  {
   "cell_type": "markdown",
   "metadata": {},
   "source": [
    "Here is an example how to use this function. We draw $10000$ random numbers and print the smallest as well as the largest number in the sample:"
   ]
  },
  {
   "cell_type": "code",
   "execution_count": null,
   "metadata": {},
   "outputs": [],
   "source": [
    "a, b = 0, 1\n",
    "samples = [uniform(a, b) for _ in range(10000)]\n",
    "print(min(samples), max(samples))"
   ]
  },
  {
   "cell_type": "markdown",
   "metadata": {},
   "source": [
    "## Solution"
   ]
  },
  {
   "cell_type": "code",
   "execution_count": null,
   "metadata": {},
   "outputs": [],
   "source": [
    "def sample_pi(n):\n",
    "    n_hits = 0\n",
    "    for _ in range(n):\n",
    "        x = uniform(0, 1)\n",
    "        y = uniform(0, 1)\n",
    "        if x * x + y * y < 1.0:\n",
    "            n_hits += 1\n",
    "    return 4.0 * n_hits / n\n",
    "\n",
    "\n",
    "sample_pi(10000)"
   ]
  },
  {
   "cell_type": "markdown",
   "metadata": {},
   "source": [
    "We can use Jupyter's `%timeit` **cell magic** to measure the computational cost of `sample_pi()`:"
   ]
  },
  {
   "cell_type": "code",
   "execution_count": null,
   "metadata": {},
   "outputs": [],
   "source": [
    "%timeit sample_pi(100)\n",
    "%timeit sample_pi(1000)\n",
    "%timeit sample_pi(10000)"
   ]
  },
  {
   "cell_type": "markdown",
   "metadata": {},
   "source": [
    "Here's an example how to compute some statistics for `sample_pi()`:"
   ]
  },
  {
   "cell_type": "code",
   "execution_count": null,
   "metadata": {},
   "outputs": [],
   "source": [
    "def stats(data):\n",
    "    from math import sqrt\n",
    "    mean = sum(data) / len(data)\n",
    "    variance = sum((d - mean)**2 for d in data) / (len(data) - 1)\n",
    "    return mean, sqrt(variance)\n",
    "\n",
    "\n",
    "mean, std = stats([sample_pi(1000) for _ in range(1000)])\n",
    "print('{:.3f} ± {:.3f}'.format(mean, std))"
   ]
  },
  {
   "cell_type": "markdown",
   "metadata": {},
   "source": [
    "With the `matplotlib` package, we can visualize such statistical properties. Here, we show how the standard deviation of the sampled results decreases with an increasing `n`:"
   ]
  },
  {
   "cell_type": "code",
   "execution_count": null,
   "metadata": {},
   "outputs": [],
   "source": [
    "%matplotlib inline\n",
    "import matplotlib.pyplot as plt\n",
    "\n",
    "std = []\n",
    "n_values = [10, 20, 50, 100, 200, 500, 1000, 2000, 5000, 10000]\n",
    "for n in n_values:\n",
    "    std.append(stats([sample_pi(n) for _ in range(1000)])[1])\n",
    "    \n",
    "plt.plot(n_values, std)\n",
    "plt.semilogx()"
   ]
  },
  {
   "cell_type": "markdown",
   "metadata": {},
   "source": [
    "If you study Monte Carlo methods, you will learn that the error $\\epsilon_n$ scales as\n",
    "\n",
    "$$\\epsilon_n \\propto \\frac{1}{\\sqrt{n}}.$$\n",
    "\n",
    "We can test this for our example by comparing the measured standard deviations with the above expression:"
   ]
  },
  {
   "cell_type": "code",
   "execution_count": null,
   "metadata": {},
   "outputs": [],
   "source": [
    "from math import sqrt\n",
    "\n",
    "f = std[0] * sqrt(n_values[0])\n",
    "\n",
    "plt.plot(n_values, std)\n",
    "plt.plot(n_values, [f / sqrt(n) for n in n_values], 'o')\n",
    "plt.semilogx()\n",
    "\n",
    "print(f)"
   ]
  },
  {
   "cell_type": "code",
   "execution_count": null,
   "metadata": {},
   "outputs": [],
   "source": []
  }
 ],
 "metadata": {
  "kernelspec": {
   "display_name": "Python 3",
   "language": "python",
   "name": "python3"
  },
  "language_info": {
   "codemirror_mode": {
    "name": "ipython",
    "version": 3
   },
   "file_extension": ".py",
   "mimetype": "text/x-python",
   "name": "python",
   "nbconvert_exporter": "python",
   "pygments_lexer": "ipython3",
   "version": "3.7.0"
  }
 },
 "nbformat": 4,
 "nbformat_minor": 2
}
