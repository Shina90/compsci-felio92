{
 "cells": [
  {
   "cell_type": "code",
   "execution_count": null,
   "metadata": {},
   "outputs": [],
   "source": [
    "%matplotlib inline\n",
    "import matplotlib.pyplot as plt\n",
    "import numpy as np\n",
    "from random import uniform, randint"
   ]
  },
  {
   "cell_type": "code",
   "execution_count": null,
   "metadata": {},
   "outputs": [],
   "source": [
    "def mmc(potential, size, x_init, beta=1.0, step=0.5):\n",
    "    \"\"\"A simple Metropolis Monte Carlo implementation\n",
    "    \n",
    "    This function updates one particle at a time with a\n",
    "    uniformly distributed step in each dimension.\n",
    "\n",
    "    Arguments:\n",
    "        potential (reference): potential function\n",
    "        size (int): length of the sampled Markov chain\n",
    "        x_init (numpy.ndarray): initial configuration\n",
    "        beta (float): inverse temperature factor\n",
    "        step (float): maximal step size\n",
    "    \"\"\"\n",
    "    x = np.zeros((size, x_init.shape[0], x_init.shape[1]))\n",
    "    u = np.zeros(size)\n",
    "    x[0, :, :] = x_init\n",
    "    u[0] = potential(x_init)\n",
    "    x_ = np.zeros_like(x_init)\n",
    "    for i in range(1, size):\n",
    "        x_[:, :] = x[i - 1]\n",
    "        j = randint(1, len(x_) - 2)\n",
    "        x_[j] += np.random.uniform(-step, step, x_[j].shape)\n",
    "        u_ = potential(x_)\n",
    "        if u_ <= u[i - 1] or uniform(0, 1) < np.exp(beta * (u[i - 1] - u_)):\n",
    "            x[i, :, :], u[i] = x_, u_\n",
    "        else:\n",
    "            x[i, :, :], u[i] = x[i - 1], u[i - 1]\n",
    "    return x, u"
   ]
  },
  {
   "cell_type": "code",
   "execution_count": null,
   "metadata": {},
   "outputs": [],
   "source": [
    "def gravity(x, g=9.81):\n",
    "    \"\"\"A model for gravity which penalizes x[:, 1]\"\"\"\n",
    "    if np.any(x[:, 1] < 0.0):\n",
    "        return np.inf\n",
    "    return g * x[:, 1].sum()\n",
    "\n",
    "\n",
    "def springs(x, k=50.0):\n",
    "    \"\"\"A pairwise spring potential\"\"\"\n",
    "    return np.power(x[1:] - x[:-1], 2).sum() * k\n",
    "\n",
    "\n",
    "def both(x, g=9.81, k=50.0):\n",
    "    \"\"\"This encapsulates gravity and spring\"\"\"\n",
    "    return gravity(x, g=g) + springs(x, k=k)\n",
    "\n",
    "\n",
    "x_init = 20 * np.ones((30, 2))\n",
    "x_init[:, 0] = np.linspace(0, len(x_init) - 1, len(x_init))\n",
    "\n",
    "x, u = mmc(both, 100000, x_init, beta=5, step=0.1)\n",
    "\n",
    "fig, ax = plt.subplots(figsize=(10, 4))\n",
    "ax.plot(u)\n",
    "ax.set_xlabel('time / steps')\n",
    "ax.set_ylabel('energy / a.u.')\n",
    "fig.tight_layout()"
   ]
  },
  {
   "cell_type": "code",
   "execution_count": null,
   "metadata": {},
   "outputs": [],
   "source": [
    "fig, axes = plt.subplots(\n",
    "    1, 2, figsize=(12, 5), sharex=True, sharey=True)\n",
    "axes[0].plot(*x[0].T, '-s', label='initial')\n",
    "axes[0].plot(*x[-1].T, '-o', label='final')\n",
    "axes[0].legend()\n",
    "for i in range(1, len(x_init) - 1):\n",
    "    axes[1].plot(*x[::10, i, :].T)\n",
    "axes[1].plot(*x[-1].T, '--', color='grey')\n",
    "for ax in axes.flat:\n",
    "    ax.set_xlabel(r'$x$')\n",
    "axes[0].set_ylabel(r'$y$')\n",
    "fig.tight_layout()"
   ]
  },
  {
   "cell_type": "code",
   "execution_count": null,
   "metadata": {},
   "outputs": [],
   "source": []
  }
 ],
 "metadata": {
  "kernelspec": {
   "display_name": "Python 3",
   "language": "python",
   "name": "python3"
  },
  "language_info": {
   "codemirror_mode": {
    "name": "ipython",
    "version": 3
   },
   "file_extension": ".py",
   "mimetype": "text/x-python",
   "name": "python",
   "nbconvert_exporter": "python",
   "pygments_lexer": "ipython3",
   "version": "3.7.0"
  }
 },
 "nbformat": 4,
 "nbformat_minor": 2
}
