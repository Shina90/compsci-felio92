{
 "cells": [
  {
   "cell_type": "markdown",
   "metadata": {},
   "source": [
    "# Sampling II: Euler and velocity verlet\n",
    "\n",
    "\n",
    "## Content\n",
    "- Euler and velocity verlet integrators\n",
    "- Reweighting\n",
    "\n",
    "## Remember jupyter notebooks\n",
    "- To run the currently highlighted cell, hold <kbd>&#x21E7; Shift</kbd> and press <kbd>&#x23ce; Enter</kbd>.\n",
    "- To get help for a specific function, place the cursor within the function's brackets, hold <kbd>&#x21E7; Shift</kbd>, and press <kbd>&#x21E5; Tab</kbd>."
   ]
  },
  {
   "cell_type": "code",
   "execution_count": null,
   "metadata": {},
   "outputs": [],
   "source": [
    "%matplotlib inline\n",
    "import matplotlib.pyplot as plt\n",
    "import numpy as np"
   ]
  },
  {
   "cell_type": "code",
   "execution_count": null,
   "metadata": {},
   "outputs": [],
   "source": [
    "def euler(potential_gradient, size, x_init, v_init, mass=1.0, time_step=0.005):\n",
    "    x, v = np.zeros(size), np.zeros(size)\n",
    "    x[0], v[0] = x_init, v_init\n",
    "    for i in range(1, size):\n",
    "        x[i] = x[i - 1] + time_step * v[i - 1]\n",
    "        v[i] = v[i - 1] - time_step * potential_gradient(x[i - 1]) / mass\n",
    "    return x, v\n",
    "\n",
    "\n",
    "def vv(potential_gradient, size, x_init, v_init, mass=1.0, time_step=0.005):\n",
    "    x, v = np.zeros(size), np.zeros(size)\n",
    "    x[0], v[0] = x_init, v_init\n",
    "    nabla_u1, nabla_u0 = potential_gradient(x[0]), None\n",
    "    for i in range(1, size):\n",
    "        x[i] = x[i - 1] + time_step * v[i - 1] - time_step**2 * nabla_u1 / 2 / mass\n",
    "        nabla_u1, nabla_u0 = potential_gradient(x[i]), nabla_u1\n",
    "        v[i] = v[i - 1] - time_step * (nabla_u1 + nabla_u0) / 2 / mass\n",
    "    return x, v\n",
    "\n",
    "\n",
    "def harmonic_potential(x):\n",
    "    return np.power(x, 2) / 2\n",
    "\n",
    "\n",
    "def harmonic_potential_gradient(x):\n",
    "    return x\n",
    "\n",
    "\n",
    "fig, axes = plt.subplots(1, 2, figsize=(10, 5))\n",
    "for ax, integrator in zip(axes.flat, (euler, vv)):\n",
    "    x, v = integrator(\n",
    "        harmonic_potential_gradient, 100000, 1, 0, time_step=0.001)\n",
    "    ax.plot(x, v)\n",
    "    ax.set_aspect('equal')\n",
    "    ax.set_xlabel(r'$x$')\n",
    "    ax.set_ylabel(r'$v$')\n",
    "fig.tight_layout()"
   ]
  },
  {
   "cell_type": "code",
   "execution_count": null,
   "metadata": {},
   "outputs": [],
   "source": [
    "def pairs(iterable):\n",
    "    for x, y in zip(iterable[:-1], iterable[1:]):\n",
    "        yield x, y\n",
    "\n",
    "\n",
    "def chi(x, xmin, xmax):\n",
    "    return np.logical_and(xmin <= x, x < xmax)\n",
    "\n",
    "\n",
    "positions, _ = vv(harmonic_potential_gradient, 100000, -5, 0)\n",
    "edges = np.linspace(-5, 5, 31)\n",
    "centers = (edges[:-1] + edges[1:]) / 2\n",
    "\n",
    "histogram = [np.sum(chi(positions, x, y)) / positions.size\n",
    "             for x, y in pairs(edges)]\n",
    "\n",
    "fig, ax = plt.subplots()\n",
    "ax.bar(centers, [h for h in histogram], (edges[1] - edges[0]) * 0.9)\n",
    "ax.set_xlabel(r'$x$')\n",
    "ax.set_ylabel(r'$\\frac{1}{N}\\sum_{n=1}^N \\chi_i(x_n)$')\n",
    "fig.tight_layout()"
   ]
  },
  {
   "cell_type": "code",
   "execution_count": null,
   "metadata": {},
   "outputs": [],
   "source": [
    "empirical_weights = np.zeros(len(positions))\n",
    "for h, (x, y) in zip(histogram, pairs(edges)):\n",
    "    empirical_weights[chi(positions, x, y)] = h\n",
    "empirical_weights /= empirical_weights.sum()\n",
    "    \n",
    "weights = np.exp(-harmonic_potential(positions) * 1.0)\n",
    "weights /= weights.sum()\n",
    "\n",
    "histogram2 = [np.sum(weights[chi(positions, x, y)])\n",
    "              for x, y in pairs(edges)]\n",
    "    \n",
    "corrected_weights = weights / empirical_weights\n",
    "corrected_weights /= corrected_weights.sum()\n",
    "\n",
    "histogram3 = [np.sum(corrected_weights[chi(positions, x, y)])\n",
    "              for x, y in pairs(edges)]\n",
    "\n",
    "fig, ax = plt.subplots()\n",
    "ax.bar(\n",
    "    centers,\n",
    "    [h for h in histogram],\n",
    "    (edges[1] - edges[0]) * 0.9,\n",
    "    label=r'$\\frac{1}{N}\\sum_{n=1}^N \\chi_i(x_n)$')\n",
    "ax.bar(\n",
    "    centers,\n",
    "    [h for h in histogram2],\n",
    "    (edges[1] - edges[0]) * 0.8,\n",
    "    label=r'$\\sum_{n=1}^N \\chi_i(x_n)p(x_n)$')\n",
    "ax.bar(\n",
    "    centers,\n",
    "    [h for h in histogram3],\n",
    "    (edges[1] - edges[0]) * 0.7,\n",
    "    label=r'$\\sum_{n=1}^N \\chi_i(x_n)p(x_n) w^{-1}(x_n)$')\n",
    "ax.set_xlabel(r'$x$')\n",
    "ax.legend()\n",
    "fig.tight_layout()"
   ]
  },
  {
   "cell_type": "code",
   "execution_count": null,
   "metadata": {},
   "outputs": [],
   "source": []
  }
 ],
 "metadata": {
  "kernelspec": {
   "display_name": "Python 3",
   "language": "python",
   "name": "python3"
  },
  "language_info": {
   "codemirror_mode": {
    "name": "ipython",
    "version": 3
   },
   "file_extension": ".py",
   "mimetype": "text/x-python",
   "name": "python",
   "nbconvert_exporter": "python",
   "pygments_lexer": "ipython3",
   "version": "3.7.0"
  }
 },
 "nbformat": 4,
 "nbformat_minor": 2
}
